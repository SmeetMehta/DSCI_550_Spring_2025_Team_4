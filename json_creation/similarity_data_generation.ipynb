{
  "nbformat": 4,
  "nbformat_minor": 0,
  "metadata": {
    "colab": {
      "provenance": []
    },
    "kernelspec": {
      "name": "python3",
      "display_name": "Python 3"
    },
    "language_info": {
      "name": "python"
    }
  },
  "cells": [
    {
      "cell_type": "code",
      "execution_count": null,
      "metadata": {
        "id": "Ued6AuRoy-s6"
      },
      "outputs": [],
      "source": [
        "import pandas as pd\n",
        "import seaborn as sns\n",
        "import matplotlib.pyplot as plt\n",
        "from sklearn.feature_extraction.text import TfidfVectorizer\n",
        "from sklearn.metrics.pairwise import cosine_similarity\n",
        "from IPython.display import display\n",
        "\n",
        "# read JSON file\n",
        "df = pd.read_json(\"haunted_data.json\")\n",
        "\n",
        "# Fliter Caption, generated_caption and image_path\n",
        "df = df[['Caption', 'generated_caption', 'image_path']].dropna()\n",
        "df['Caption'] = df['Caption'].astype(str)\n",
        "df['generated_caption'] = df['generated_caption'].astype(str)\n",
        "\n",
        "# Compute TF-IDF vectors and similarities\n",
        "vectorizer = TfidfVectorizer()\n",
        "all_text = pd.concat([df['Caption'], df['generated_caption']])\n",
        "tfidf_matrix = vectorizer.fit_transform(all_text)\n",
        "\n",
        "tfidf_caption = tfidf_matrix[:len(df)]\n",
        "tfidf_generated = tfidf_matrix[len(df):]\n",
        "\n",
        "similarities = []\n",
        "for i in range(len(df)):\n",
        "    sim = cosine_similarity(tfidf_caption[i], tfidf_generated[i])[0][0]\n",
        "    similarities.append(sim)\n",
        "\n",
        "# Add results to DataFrame\n",
        "df['similarity'] = similarities\n",
        "\n",
        "# Export data in JSON format\n",
        "similarity_data = df[['Caption', 'generated_caption', 'similarity','image_path']]\n",
        "# Save as JSON file\n",
        "similarity_data.to_json('similarity_data.json', orient='records')"
      ]
    }
  ]
}